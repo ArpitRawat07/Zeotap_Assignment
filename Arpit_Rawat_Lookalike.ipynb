{
  "nbformat": 4,
  "nbformat_minor": 0,
  "metadata": {
    "colab": {
      "provenance": [],
      "authorship_tag": "ABX9TyMZQJZ9OyA9x8ZFW9usslSZ",
      "include_colab_link": true
    },
    "kernelspec": {
      "name": "python3",
      "display_name": "Python 3"
    },
    "language_info": {
      "name": "python"
    }
  },
  "cells": [
    {
      "cell_type": "markdown",
      "metadata": {
        "id": "view-in-github",
        "colab_type": "text"
      },
      "source": [
        "<a href=\"https://colab.research.google.com/github/ArpitRawat07/Zeotap_Assignment/blob/main/Arpit_Rawat_Lookalike.ipynb\" target=\"_parent\"><img src=\"https://colab.research.google.com/assets/colab-badge.svg\" alt=\"Open In Colab\"/></a>"
      ]
    },
    {
      "cell_type": "code",
      "execution_count": 1,
      "metadata": {
        "colab": {
          "base_uri": "https://localhost:8080/"
        },
        "id": "ffc-fzDRy07b",
        "outputId": "fc94c426-5f80-45dd-9310-4a2b9f3a79ec"
      },
      "outputs": [
        {
          "output_type": "stream",
          "name": "stdout",
          "text": [
            "Requirement already satisfied: gdown in /usr/local/lib/python3.11/dist-packages (5.2.0)\n",
            "Requirement already satisfied: beautifulsoup4 in /usr/local/lib/python3.11/dist-packages (from gdown) (4.12.3)\n",
            "Requirement already satisfied: filelock in /usr/local/lib/python3.11/dist-packages (from gdown) (3.17.0)\n",
            "Requirement already satisfied: requests[socks] in /usr/local/lib/python3.11/dist-packages (from gdown) (2.32.3)\n",
            "Requirement already satisfied: tqdm in /usr/local/lib/python3.11/dist-packages (from gdown) (4.67.1)\n",
            "Requirement already satisfied: soupsieve>1.2 in /usr/local/lib/python3.11/dist-packages (from beautifulsoup4->gdown) (2.6)\n",
            "Requirement already satisfied: charset-normalizer<4,>=2 in /usr/local/lib/python3.11/dist-packages (from requests[socks]->gdown) (3.4.1)\n",
            "Requirement already satisfied: idna<4,>=2.5 in /usr/local/lib/python3.11/dist-packages (from requests[socks]->gdown) (3.10)\n",
            "Requirement already satisfied: urllib3<3,>=1.21.1 in /usr/local/lib/python3.11/dist-packages (from requests[socks]->gdown) (2.3.0)\n",
            "Requirement already satisfied: certifi>=2017.4.17 in /usr/local/lib/python3.11/dist-packages (from requests[socks]->gdown) (2024.12.14)\n",
            "Requirement already satisfied: PySocks!=1.5.7,>=1.5.6 in /usr/local/lib/python3.11/dist-packages (from requests[socks]->gdown) (1.7.1)\n"
          ]
        }
      ],
      "source": [
        "!pip install gdown"
      ]
    },
    {
      "cell_type": "code",
      "source": [
        "# Download Customers.csv\n",
        "!gdown \"https://drive.google.com/uc?id=1bu_--mo79VdUG9oin4ybfFGRUSXAe-WE\" -O Customers.csv"
      ],
      "metadata": {
        "colab": {
          "base_uri": "https://localhost:8080/"
        },
        "id": "5zsaidzGzBy-",
        "outputId": "303fa011-8642-4718-bb11-e78643d840d7"
      },
      "execution_count": 2,
      "outputs": [
        {
          "output_type": "stream",
          "name": "stdout",
          "text": [
            "Downloading...\n",
            "From: https://drive.google.com/uc?id=1bu_--mo79VdUG9oin4ybfFGRUSXAe-WE\n",
            "To: /content/Customers.csv\n",
            "\r  0% 0.00/8.54k [00:00<?, ?B/s]\r100% 8.54k/8.54k [00:00<00:00, 20.7MB/s]\n"
          ]
        }
      ]
    },
    {
      "cell_type": "code",
      "source": [
        "# Download Products.csv\n",
        "!gdown \"https://drive.google.com/uc?id=1IKuDizVapw-hyktwfpoAoaGtHtTNHfd0\" -O Products.csv"
      ],
      "metadata": {
        "colab": {
          "base_uri": "https://localhost:8080/"
        },
        "id": "qwW7r4AZzI76",
        "outputId": "bb8abdc3-dd61-49b7-b384-4ff150975131"
      },
      "execution_count": 3,
      "outputs": [
        {
          "output_type": "stream",
          "name": "stdout",
          "text": [
            "Downloading...\n",
            "From: https://drive.google.com/uc?id=1IKuDizVapw-hyktwfpoAoaGtHtTNHfd0\n",
            "To: /content/Products.csv\n",
            "\r  0% 0.00/4.25k [00:00<?, ?B/s]\r100% 4.25k/4.25k [00:00<00:00, 17.0MB/s]\n"
          ]
        }
      ]
    },
    {
      "cell_type": "code",
      "source": [
        "# Download Transactions.csv\n",
        "!gdown \"https://drive.google.com/uc?id=1saEqdbBB-vuk2hxoAf4TzDEsykdKlzbF\" -O Transactions.csv"
      ],
      "metadata": {
        "colab": {
          "base_uri": "https://localhost:8080/"
        },
        "id": "afTM97vwzMN7",
        "outputId": "1d121d70-d40a-4046-cbb0-319e8dc74b33"
      },
      "execution_count": 4,
      "outputs": [
        {
          "output_type": "stream",
          "name": "stdout",
          "text": [
            "Downloading...\n",
            "From: https://drive.google.com/uc?id=1saEqdbBB-vuk2hxoAf4TzDEsykdKlzbF\n",
            "To: /content/Transactions.csv\n",
            "\r  0% 0.00/54.7k [00:00<?, ?B/s]\r100% 54.7k/54.7k [00:00<00:00, 56.3MB/s]\n"
          ]
        }
      ]
    },
    {
      "cell_type": "code",
      "source": [
        "# Importing required libraries\n",
        "import pandas as pd\n",
        "from sklearn.metrics.pairwise import cosine_similarity\n",
        "from sklearn.preprocessing import OneHotEncoder\n",
        "import numpy as np"
      ],
      "metadata": {
        "id": "BsZ48tX1zObc"
      },
      "execution_count": 10,
      "outputs": []
    },
    {
      "cell_type": "code",
      "source": [
        "# Load the datasets\n",
        "customers = pd.read_csv(\"Customers.csv\")\n",
        "transactions = pd.read_csv(\"Transactions.csv\")\n",
        "products = pd.read_csv(\"Products.csv\")"
      ],
      "metadata": {
        "id": "wFZ7fJCazQie"
      },
      "execution_count": 6,
      "outputs": []
    },
    {
      "cell_type": "code",
      "source": [
        "# Convert date columns to datetime\n",
        "customers['SignupDate'] = pd.to_datetime(customers['SignupDate'])\n",
        "transactions['TransactionDate'] = pd.to_datetime(transactions['TransactionDate'])"
      ],
      "metadata": {
        "id": "akVwr2fKzUPq"
      },
      "execution_count": 7,
      "outputs": []
    },
    {
      "cell_type": "markdown",
      "source": [
        "## Data Preprocessing"
      ],
      "metadata": {
        "id": "8Wt0JaxqzZ0f"
      }
    },
    {
      "cell_type": "code",
      "source": [
        "# Aggregating transaction data by customer\n",
        "transaction_data = transactions.groupby('CustomerID').agg(\n",
        "    TotalSpent=('TotalValue', 'sum'),\n",
        "    AvgSpent=('TotalValue', 'mean'),\n",
        "    PurchaseCount=('TotalValue', 'count')\n",
        ").reset_index()"
      ],
      "metadata": {
        "id": "UVAtBQSKzW9Y"
      },
      "execution_count": 8,
      "outputs": []
    },
    {
      "cell_type": "markdown",
      "source": [
        "## Feature Engineering"
      ],
      "metadata": {
        "id": "7tB2tJ4czga4"
      }
    },
    {
      "cell_type": "code",
      "source": [
        "# One-hot encode 'Region' column for customers\n",
        "encoder = OneHotEncoder(sparse_output=False)\n",
        "region_encoded = encoder.fit_transform(customers[['Region']])\n",
        "region_df = pd.DataFrame(region_encoded, columns=encoder.get_feature_names_out(['Region']))"
      ],
      "metadata": {
        "id": "CH6k7MbJzf4U"
      },
      "execution_count": 12,
      "outputs": []
    },
    {
      "cell_type": "code",
      "source": [
        "# Merging customer data with region data\n",
        "customers = pd.concat([customers, region_df], axis=1)"
      ],
      "metadata": {
        "id": "lBALut7FzobW"
      },
      "execution_count": 13,
      "outputs": []
    },
    {
      "cell_type": "code",
      "source": [
        "# Merge transaction data with customer profile data\n",
        "customer_features = pd.merge(customers, transaction_data, on='CustomerID')"
      ],
      "metadata": {
        "id": "Ykt5R7d4z2OX"
      },
      "execution_count": 15,
      "outputs": []
    },
    {
      "cell_type": "markdown",
      "source": [
        "## Compute Cosine Similarity"
      ],
      "metadata": {
        "id": "poGWSRRqz8n9"
      }
    },
    {
      "cell_type": "code",
      "source": [
        "# Combine features: Profile features (Region) + Transaction features (TotalSpent, AvgSpent, etc.)\n",
        "feature_columns = [col for col in customer_features.columns if col not in ['CustomerID', 'CustomerName', 'SignupDate', 'Region']]\n",
        "X = customer_features[feature_columns].values"
      ],
      "metadata": {
        "id": "8CcjtWbxz4Yh"
      },
      "execution_count": 16,
      "outputs": []
    },
    {
      "cell_type": "code",
      "source": [
        "# Normalize the data (optional but can improve performance)\n",
        "from sklearn.preprocessing import StandardScaler\n",
        "scaler = StandardScaler()\n",
        "X_scaled = scaler.fit_transform(X)"
      ],
      "metadata": {
        "id": "9UU9644vz8FE"
      },
      "execution_count": 17,
      "outputs": []
    },
    {
      "cell_type": "code",
      "source": [
        "# Compute cosine similarity matrix\n",
        "similarity_matrix = cosine_similarity(X_scaled)"
      ],
      "metadata": {
        "id": "2_LUos_m0DAU"
      },
      "execution_count": 18,
      "outputs": []
    },
    {
      "cell_type": "code",
      "source": [
        "lookalike_map = {}\n",
        "\n",
        "for idx in range(20):\n",
        "    customer_id = customer_features.iloc[idx]['CustomerID']\n",
        "    similarity_scores = similarity_matrix[idx]\n",
        "\n",
        "    # Get the indices of the top 3 most similar customers (excluding the customer itself)\n",
        "    similar_indices = similarity_scores.argsort()[-4:-1][::-1]\n",
        "\n",
        "    similar_customers = []\n",
        "    for sim_idx in similar_indices:\n",
        "        similar_customer_id = customer_features.iloc[sim_idx]['CustomerID']\n",
        "        similarity_score = similarity_scores[sim_idx]\n",
        "        similar_customers.append((similar_customer_id, similarity_score))\n",
        "\n",
        "    lookalike_map[customer_id] = similar_customers"
      ],
      "metadata": {
        "id": "IA4uJdXg0FP2"
      },
      "execution_count": 19,
      "outputs": []
    },
    {
      "cell_type": "markdown",
      "source": [
        "## Results"
      ],
      "metadata": {
        "id": "y58Gzj3F0M-n"
      }
    },
    {
      "cell_type": "code",
      "source": [
        "# Flatten the dictionary for the DataFrame\n",
        "lookalike_list = []\n",
        "for cust_id, recommendations in lookalike_map.items():\n",
        "    row = [cust_id]\n",
        "    for rec in recommendations:\n",
        "        row.append(rec[0])  # Lookalike customer ID\n",
        "        row.append(rec[1])  # Score\n",
        "    lookalike_list.append(row)\n",
        "\n",
        "# Create DataFrame from the flattened list\n",
        "lookalike_df = pd.DataFrame(lookalike_list)\n",
        "\n",
        "# Set the proper column names\n",
        "lookalike_df.columns = ['CustomerID', 'Lookalike_1', 'Score_1', 'Lookalike_2', 'Score_2', 'Lookalike_3', 'Score_3']\n",
        "\n",
        "# Save the DataFrame to a CSV file\n",
        "lookalike_df.to_csv(\"Lookalike.csv\", index=False)"
      ],
      "metadata": {
        "id": "r8t98Bd30IX5"
      },
      "execution_count": 21,
      "outputs": []
    },
    {
      "cell_type": "code",
      "source": [],
      "metadata": {
        "id": "v_iZBfP30POA"
      },
      "execution_count": null,
      "outputs": []
    }
  ]
}